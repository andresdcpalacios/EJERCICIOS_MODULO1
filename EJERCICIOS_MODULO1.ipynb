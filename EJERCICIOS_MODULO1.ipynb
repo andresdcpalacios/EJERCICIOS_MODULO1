{
  "nbformat": 4,
  "nbformat_minor": 0,
  "metadata": {
    "colab": {
      "provenance": []
    },
    "kernelspec": {
      "name": "python3",
      "display_name": "Python 3"
    },
    "language_info": {
      "name": "python"
    }
  },
  "cells": [
    {
      "cell_type": "markdown",
      "source": [
        "\n",
        "\n",
        "1.   Imprime “Hello world” 73 veces.\n",
        "\n",
        "\n"
      ],
      "metadata": {
        "id": "9AIwXg9VtgqZ"
      }
    },
    {
      "cell_type": "code",
      "execution_count": null,
      "metadata": {
        "id": "SZ0_Eoabta9y"
      },
      "outputs": [],
      "source": [
        "for _ in range(73):\n",
        "    print(\"Hello world\")\n"
      ]
    },
    {
      "cell_type": "markdown",
      "source": [
        "2 . Crea un programa en python que devuelva el valor del septuagésimo tercer (73º) número de la serie de Fibonacci."
      ],
      "metadata": {
        "id": "ZYo-FGOEt4rU"
      }
    },
    {
      "cell_type": "code",
      "source": [
        "def fibonacci(n):\n",
        "    a, b = 0, 1\n",
        "    for _ in range(n - 1):\n",
        "        a, b = b, a + b\n",
        "    return a\n",
        "\n",
        "# Obtener el 73º número de Fibonacci\n",
        "print(fibonacci(73))\n"
      ],
      "metadata": {
        "id": "pjHxbNv4twEf"
      },
      "execution_count": null,
      "outputs": []
    },
    {
      "cell_type": "markdown",
      "source": [
        "3 Crea un data frame en pandas con 201 filas y las siguientes columnas:"
      ],
      "metadata": {
        "id": "8jsIEBrYuC60"
      }
    },
    {
      "cell_type": "code",
      "source": [
        "import pandas as pd\n",
        "import numpy as np\n",
        "\n",
        "# Crear la columna 't' con valores entre 0 y 4 separados por intervalos de 0.02\n",
        "t = np.arange(0, 4.02, 0.02)[:201]  # Limitamos a 201 valores\n",
        "\n",
        "# Crear el DataFrame con las columnas especificadas\n",
        "df = pd.DataFrame({\n",
        "    't': t,\n",
        "    's': np.sin(t),\n",
        "})\n",
        "\n",
        "# Crear la columna 's10' desplazando 's' en 10 posiciones\n",
        "df['s10'] = df['s'].shift(-10)\n",
        "\n",
        "# Crear la columna 'd' como la diferencia entre 's' y 's10'\n",
        "df['d'] = df['s'] - df['s10']\n",
        "\n",
        "# Crear la columna 'p' donde el valor es 1 si 'd' es positivo y 0 si es negativo\n",
        "df['p'] = df['d'].apply(lambda x: 1 if x > 0 else 0)\n",
        "\n",
        "# Guardar el DataFrame en un archivo CSV separado por \";\"\n",
        "df.to_csv('big_bang_theory_dataset.csv', sep=';', index=False)\n"
      ],
      "metadata": {
        "id": "Ife_YV1tuNZ-"
      },
      "execution_count": null,
      "outputs": []
    },
    {
      "cell_type": "markdown",
      "source": [
        "4 . Carga el archivo creado en un nuevo programa.\n",
        "a. La última columna m será la media de los valores positivos si p es 1 y la media de los valores negativos si p es 0. Sugerencia: los métodos groupby y transform pueden encadenarse. Documentación método transform\n",
        "b. Crea finalmente un data frame de solo dos filas con el sumatorio de los valores negativos de la columna d y el sumatorio de los valores positivos de la columna d. Sugerencia: El método groupby será suficiente"
      ],
      "metadata": {
        "id": "xu0fzzV5utNr"
      }
    },
    {
      "cell_type": "markdown",
      "source": [
        "a. Calcular la media de valores positivos y negativos de 'd' basado en la columna 'p'.\n",
        "python\n",
        "Copy code\n"
      ],
      "metadata": {
        "id": "gZmGU5WPvQPp"
      }
    },
    {
      "cell_type": "code",
      "source": [
        "# Cargar el archivo CSV\n",
        "df = pd.read_csv('big_bang_theory_dataset.csv', sep=';')\n",
        "\n",
        "# Crear la columna 'm' usando groupby y transform\n",
        "df['m'] = df.groupby('p')['d'].transform(lambda x: x[x > 0].mean() if x.name == 1 else x[x <= 0].mean())\n"
      ],
      "metadata": {
        "id": "rLshbGHNuyol"
      },
      "execution_count": null,
      "outputs": []
    },
    {
      "cell_type": "markdown",
      "source": [
        "b. Crear un DataFrame de solo dos filas con el sumatorio de valores positivos y negativos de 'd'.\n",
        "python\n",
        "Copy code\n"
      ],
      "metadata": {
        "id": "mo0YNm1zvWRC"
      }
    },
    {
      "cell_type": "code",
      "source": [
        "# Crear un DataFrame con el sumatorio de los valores positivos y negativos de 'd'\n",
        "df_sum = df.groupby(df['d'] > 0)['d'].sum().reset_index(name='sum_d')\n",
        "df_sum.columns = ['EsPositivo', 'Sumatorio_d']\n",
        "print(df_sum)\n"
      ],
      "metadata": {
        "id": "Af72lZGQvax8"
      },
      "execution_count": null,
      "outputs": []
    },
    {
      "cell_type": "markdown",
      "source": [
        "6. Calcular el septuagésimo tercer (73º) número primo.\n"
      ],
      "metadata": {
        "id": "qrm5D0ZyvtI1"
      }
    },
    {
      "cell_type": "code",
      "source": [
        "from sympy import primerange\n",
        "\n",
        "# Generar una lista de los primeros 73 primos y obtener el último\n",
        "primos = list(primerange(1, 400))  # Usamos un rango suficientemente amplio\n",
        "print(primos[72])  # Imprimir el 73º número primo (índice 72 porque es 0-indexado)\n"
      ],
      "metadata": {
        "id": "Jz4BBuxDvhzD"
      },
      "execution_count": null,
      "outputs": []
    },
    {
      "cell_type": "markdown",
      "source": [
        "7. Sube a un repositorio de git hub un programa que encuentre un intervalo que tenga 73 números no primos seguidos y compártelo a través de su link en Git Hub."
      ],
      "metadata": {
        "id": "y1qvv4jsvyXl"
      }
    },
    {
      "cell_type": "code",
      "source": [
        "from sympy import isprime\n",
        "\n",
        "def encontrar_intervalo():\n",
        "    consecutivos = 0\n",
        "    numero = 2\n",
        "    while consecutivos < 73:\n",
        "        if not isprime(numero):\n",
        "            consecutivos += 1\n",
        "        else:\n",
        "            consecutivos = 0\n",
        "        numero += 1\n",
        "    return numero - 73\n",
        "\n",
        "print(\"Primer número del intervalo de 73 números no primos consecutivos:\", encontrar_intervalo())\n"
      ],
      "metadata": {
        "id": "P-mSsq8Sv-bF"
      },
      "execution_count": null,
      "outputs": []
    }
  ]
}